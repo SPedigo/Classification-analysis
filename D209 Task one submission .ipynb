{
 "cells": [
  {
   "cell_type": "code",
   "execution_count": 1,
   "metadata": {},
   "outputs": [],
   "source": [
    "#importing necessary libraries\n",
    "import numpy as np\n",
    "from sklearn import preprocessing, neighbors\n",
    "import pandas as pd\n",
    "from sklearn.model_selection import train_test_split\n",
    "from sklearn.metrics import roc_auc_score\n",
    "from sklearn.metrics import precision_score\n",
    "from sklearn.metrics import confusion_matrix\n",
    "#loading in data \n",
    "df = pd.read_csv(\"D:\\code\\School\\D207\\medical_clean.csv\")"
   ]
  },
  {
   "cell_type": "code",
   "execution_count": 2,
   "metadata": {},
   "outputs": [],
   "source": [
    "#dropping unwanted columns\n",
    "df = df.drop(['CaseOrder', 'State', 'Customer_id', 'Interaction', 'UID', 'City', 'County', 'Zip',\n",
    "             'Lat', 'Lng', 'TimeZone', 'Job', 'Full_meals_eaten', 'vitD_supp', 'Item1', 'Item2',\n",
    "             'Item3', 'Item4', 'Item5', 'Item6', 'Item7', 'Item8', \n",
    "                     'Population', 'Area', 'Children',  'Full_meals_eaten', 'CaseOrder'], axis =1)"
   ]
  },
  {
   "cell_type": "code",
   "execution_count": 3,
   "metadata": {},
   "outputs": [],
   "source": [
    "#getting dummies for categorical variables\n",
    "df = pd.concat([df, pd.get_dummies(df['Marital'], prefix='Marital', drop_first=False)], axis=1)\n",
    "df = pd.concat([df, pd.get_dummies(df['Gender'], prefix='Gender', drop_first=False)], axis=1)\n",
    "df = pd.concat([df, pd.get_dummies(df['Initial_admin'], prefix='Initial_admin', drop_first=False)], axis=1)\n",
    "df = pd.concat([df, pd.get_dummies(df['Complication_risk'], prefix='Complication_risk', drop_first=False)], axis=1)\n",
    "df = pd.concat([df, pd.get_dummies(df['Services'], prefix='Services', drop_first=False)], axis=1)"
   ]
  },
  {
   "cell_type": "code",
   "execution_count": 4,
   "metadata": {},
   "outputs": [],
   "source": [
    "#dropping original columns now that these have been encoded\n",
    "df.drop(['Marital'],axis=1, inplace=True)\n",
    "df.drop(['Gender'],axis=1, inplace=True)\n",
    "df.drop(['Initial_admin'],axis=1, inplace=True)\n",
    "df.drop(['Complication_risk'],axis=1, inplace=True)\n",
    "df.drop(['Services'],axis=1, inplace=True)"
   ]
  },
  {
   "cell_type": "code",
   "execution_count": 5,
   "metadata": {},
   "outputs": [],
   "source": [
    "#these variables only have two possible values and can be encoded as 1 or 0\n",
    "df['ReAdmis']=df.ReAdmis.map(dict(Yes=1, No=0))\n",
    "df['HighBlood']=df.HighBlood.map(dict(Yes=1, No=0))\n",
    "df['Stroke']=df.Stroke.map(dict(Yes=1, No=0))\n",
    "df['Overweight']=df.Overweight.map(dict(Yes=1, No=0))\n",
    "df['Arthritis']=df.Arthritis.map(dict(Yes=1, No=0))\n",
    "df['Diabetes']=df.Diabetes.map(dict(Yes=1, No=0))\n",
    "df['Hyperlipidemia']=df.Hyperlipidemia.map(dict(Yes=1, No=0))\n",
    "df['BackPain']=df.BackPain.map(dict(Yes=1, No=0))\n",
    "df['Anxiety']=df.Anxiety.map(dict(Yes=1, No=0))\n",
    "df['Allergic_rhinitis']=df.Allergic_rhinitis.map(dict(Yes=1, No=0))\n",
    "df['Reflux_esophagitis']=df.Reflux_esophagitis.map(dict(Yes=1, No=0))\n",
    "df['Asthma']=df.Asthma.map(dict(Yes=1, No=0))\n",
    "df['Soft_drink']=df.Soft_drink.map(dict(Yes=1, No=0))"
   ]
  },
  {
   "cell_type": "code",
   "execution_count": 6,
   "metadata": {},
   "outputs": [
    {
     "data": {
      "text/html": [
       "<div>\n",
       "<style scoped>\n",
       "    .dataframe tbody tr th:only-of-type {\n",
       "        vertical-align: middle;\n",
       "    }\n",
       "\n",
       "    .dataframe tbody tr th {\n",
       "        vertical-align: top;\n",
       "    }\n",
       "\n",
       "    .dataframe thead th {\n",
       "        text-align: right;\n",
       "    }\n",
       "</style>\n",
       "<table border=\"1\" class=\"dataframe\">\n",
       "  <thead>\n",
       "    <tr style=\"text-align: right;\">\n",
       "      <th></th>\n",
       "      <th>Age</th>\n",
       "      <th>Income</th>\n",
       "      <th>ReAdmis</th>\n",
       "      <th>VitD_levels</th>\n",
       "      <th>Doc_visits</th>\n",
       "      <th>Soft_drink</th>\n",
       "      <th>HighBlood</th>\n",
       "      <th>Stroke</th>\n",
       "      <th>Overweight</th>\n",
       "      <th>Arthritis</th>\n",
       "      <th>...</th>\n",
       "      <th>Initial_admin_Elective Admission</th>\n",
       "      <th>Initial_admin_Emergency Admission</th>\n",
       "      <th>Initial_admin_Observation Admission</th>\n",
       "      <th>Complication_risk_High</th>\n",
       "      <th>Complication_risk_Low</th>\n",
       "      <th>Complication_risk_Medium</th>\n",
       "      <th>Services_Blood Work</th>\n",
       "      <th>Services_CT Scan</th>\n",
       "      <th>Services_Intravenous</th>\n",
       "      <th>Services_MRI</th>\n",
       "    </tr>\n",
       "  </thead>\n",
       "  <tbody>\n",
       "    <tr>\n",
       "      <td>0</td>\n",
       "      <td>53</td>\n",
       "      <td>86575.93</td>\n",
       "      <td>0</td>\n",
       "      <td>19.141466</td>\n",
       "      <td>6</td>\n",
       "      <td>0</td>\n",
       "      <td>1</td>\n",
       "      <td>0</td>\n",
       "      <td>0</td>\n",
       "      <td>1</td>\n",
       "      <td>...</td>\n",
       "      <td>0</td>\n",
       "      <td>1</td>\n",
       "      <td>0</td>\n",
       "      <td>0</td>\n",
       "      <td>0</td>\n",
       "      <td>1</td>\n",
       "      <td>1</td>\n",
       "      <td>0</td>\n",
       "      <td>0</td>\n",
       "      <td>0</td>\n",
       "    </tr>\n",
       "    <tr>\n",
       "      <td>1</td>\n",
       "      <td>51</td>\n",
       "      <td>46805.99</td>\n",
       "      <td>0</td>\n",
       "      <td>18.940352</td>\n",
       "      <td>4</td>\n",
       "      <td>0</td>\n",
       "      <td>1</td>\n",
       "      <td>0</td>\n",
       "      <td>1</td>\n",
       "      <td>0</td>\n",
       "      <td>...</td>\n",
       "      <td>0</td>\n",
       "      <td>1</td>\n",
       "      <td>0</td>\n",
       "      <td>1</td>\n",
       "      <td>0</td>\n",
       "      <td>0</td>\n",
       "      <td>0</td>\n",
       "      <td>0</td>\n",
       "      <td>1</td>\n",
       "      <td>0</td>\n",
       "    </tr>\n",
       "    <tr>\n",
       "      <td>2</td>\n",
       "      <td>53</td>\n",
       "      <td>14370.14</td>\n",
       "      <td>0</td>\n",
       "      <td>18.057507</td>\n",
       "      <td>4</td>\n",
       "      <td>0</td>\n",
       "      <td>1</td>\n",
       "      <td>0</td>\n",
       "      <td>1</td>\n",
       "      <td>0</td>\n",
       "      <td>...</td>\n",
       "      <td>1</td>\n",
       "      <td>0</td>\n",
       "      <td>0</td>\n",
       "      <td>0</td>\n",
       "      <td>0</td>\n",
       "      <td>1</td>\n",
       "      <td>1</td>\n",
       "      <td>0</td>\n",
       "      <td>0</td>\n",
       "      <td>0</td>\n",
       "    </tr>\n",
       "    <tr>\n",
       "      <td>3</td>\n",
       "      <td>78</td>\n",
       "      <td>39741.49</td>\n",
       "      <td>0</td>\n",
       "      <td>16.576858</td>\n",
       "      <td>4</td>\n",
       "      <td>0</td>\n",
       "      <td>0</td>\n",
       "      <td>1</td>\n",
       "      <td>0</td>\n",
       "      <td>1</td>\n",
       "      <td>...</td>\n",
       "      <td>1</td>\n",
       "      <td>0</td>\n",
       "      <td>0</td>\n",
       "      <td>0</td>\n",
       "      <td>0</td>\n",
       "      <td>1</td>\n",
       "      <td>1</td>\n",
       "      <td>0</td>\n",
       "      <td>0</td>\n",
       "      <td>0</td>\n",
       "    </tr>\n",
       "    <tr>\n",
       "      <td>4</td>\n",
       "      <td>22</td>\n",
       "      <td>1209.56</td>\n",
       "      <td>0</td>\n",
       "      <td>17.439069</td>\n",
       "      <td>5</td>\n",
       "      <td>1</td>\n",
       "      <td>0</td>\n",
       "      <td>0</td>\n",
       "      <td>0</td>\n",
       "      <td>0</td>\n",
       "      <td>...</td>\n",
       "      <td>1</td>\n",
       "      <td>0</td>\n",
       "      <td>0</td>\n",
       "      <td>0</td>\n",
       "      <td>1</td>\n",
       "      <td>0</td>\n",
       "      <td>0</td>\n",
       "      <td>1</td>\n",
       "      <td>0</td>\n",
       "      <td>0</td>\n",
       "    </tr>\n",
       "  </tbody>\n",
       "</table>\n",
       "<p>5 rows × 38 columns</p>\n",
       "</div>"
      ],
      "text/plain": [
       "   Age    Income  ReAdmis  VitD_levels  Doc_visits  Soft_drink  HighBlood  \\\n",
       "0   53  86575.93        0    19.141466           6           0          1   \n",
       "1   51  46805.99        0    18.940352           4           0          1   \n",
       "2   53  14370.14        0    18.057507           4           0          1   \n",
       "3   78  39741.49        0    16.576858           4           0          0   \n",
       "4   22   1209.56        0    17.439069           5           1          0   \n",
       "\n",
       "   Stroke  Overweight  Arthritis  ...  Initial_admin_Elective Admission  \\\n",
       "0       0           0          1  ...                                 0   \n",
       "1       0           1          0  ...                                 0   \n",
       "2       0           1          0  ...                                 1   \n",
       "3       1           0          1  ...                                 1   \n",
       "4       0           0          0  ...                                 1   \n",
       "\n",
       "   Initial_admin_Emergency Admission  Initial_admin_Observation Admission  \\\n",
       "0                                  1                                    0   \n",
       "1                                  1                                    0   \n",
       "2                                  0                                    0   \n",
       "3                                  0                                    0   \n",
       "4                                  0                                    0   \n",
       "\n",
       "   Complication_risk_High  Complication_risk_Low  Complication_risk_Medium  \\\n",
       "0                       0                      0                         1   \n",
       "1                       1                      0                         0   \n",
       "2                       0                      0                         1   \n",
       "3                       0                      0                         1   \n",
       "4                       0                      1                         0   \n",
       "\n",
       "   Services_Blood Work  Services_CT Scan  Services_Intravenous  Services_MRI  \n",
       "0                    1                 0                     0             0  \n",
       "1                    0                 0                     1             0  \n",
       "2                    1                 0                     0             0  \n",
       "3                    1                 0                     0             0  \n",
       "4                    0                 1                     0             0  \n",
       "\n",
       "[5 rows x 38 columns]"
      ]
     },
     "execution_count": 6,
     "metadata": {},
     "output_type": "execute_result"
    }
   ],
   "source": [
    "#viewing updated dataframe\n",
    "df.head()"
   ]
  },
  {
   "cell_type": "code",
   "execution_count": 7,
   "metadata": {},
   "outputs": [],
   "source": [
    "#separating dependent variable from independent variables\n",
    "X_values = df.drop(['Complication_risk_High', 'Complication_risk_Low', \n",
    "                   'Complication_risk_Medium'], axis = 1)"
   ]
  },
  {
   "cell_type": "code",
   "execution_count": 8,
   "metadata": {},
   "outputs": [],
   "source": [
    "#making a copy of the data to work on in case of error\n",
    "data_copy = pd.read_csv(\"D:\\code\\School\\D207\\medical_clean.csv\")"
   ]
  },
  {
   "cell_type": "code",
   "execution_count": 9,
   "metadata": {},
   "outputs": [],
   "source": [
    "#identifying dependent variable\n",
    "Y = data_copy['Complication_risk']"
   ]
  },
  {
   "cell_type": "code",
   "execution_count": 10,
   "metadata": {},
   "outputs": [],
   "source": [
    "#writing prepared data to a csv\n",
    "df.to_csv('prepped_med_data.csv')"
   ]
  },
  {
   "cell_type": "code",
   "execution_count": 11,
   "metadata": {},
   "outputs": [],
   "source": [
    "#splitting data into testing and training data \n",
    "X_train, X_test, Y_train, Y_test = train_test_split(X_values,Y,test_size = .2)\n"
   ]
  },
  {
   "cell_type": "code",
   "execution_count": 12,
   "metadata": {
    "scrolled": true
   },
   "outputs": [
    {
     "name": "stderr",
     "output_type": "stream",
     "text": [
      "C:\\Users\\jack\\Anaconda3\\lib\\site-packages\\ipykernel_launcher.py:4: FutureWarning: The signature of `Series.to_csv` was aligned to that of `DataFrame.to_csv`, and argument 'header' will change its default value from False to True: please pass an explicit value to suppress this warning.\n",
      "  after removing the cwd from sys.path.\n",
      "C:\\Users\\jack\\Anaconda3\\lib\\site-packages\\ipykernel_launcher.py:5: FutureWarning: The signature of `Series.to_csv` was aligned to that of `DataFrame.to_csv`, and argument 'header' will change its default value from False to True: please pass an explicit value to suppress this warning.\n",
      "  \"\"\"\n"
     ]
    }
   ],
   "source": [
    "#saving to csv\n",
    "X_train.to_csv('X_train.csv')\n",
    "X_test.to_csv('X_test.csv')\n",
    "Y_train.to_csv('Y_train.csv')\n",
    "Y_test.to_csv('Y_test.csv')"
   ]
  },
  {
   "cell_type": "code",
   "execution_count": 13,
   "metadata": {},
   "outputs": [
    {
     "name": "stdout",
     "output_type": "stream",
     "text": [
      "['Medium' 'High' 'Medium' ... 'High' 'Medium' 'Low']\n"
     ]
    }
   ],
   "source": [
    "#converting dataframe to array \n",
    "X = np.array(X_values)\n",
    "#converting dataframe to array\n",
    "Y = np.array(Y)\n",
    "#viewing array \n",
    "print(Y)"
   ]
  },
  {
   "cell_type": "code",
   "execution_count": 14,
   "metadata": {},
   "outputs": [],
   "source": [
    "from sklearn.preprocessing import StandardScaler"
   ]
  },
  {
   "cell_type": "code",
   "execution_count": 15,
   "metadata": {},
   "outputs": [],
   "source": [
    "#scaling data\n",
    "scaler = StandardScaler()\n",
    "scaler.fit(X_train)\n",
    "X_train = scaler.transform(X_train)\n",
    "X_test = scaler.transform(X_test)"
   ]
  },
  {
   "cell_type": "code",
   "execution_count": 16,
   "metadata": {},
   "outputs": [
    {
     "name": "stdout",
     "output_type": "stream",
     "text": [
      "[[ 0.51645171  0.23045243  1.31366815 ...  2.73068849 -0.67675078\n",
      "  -0.19670091]\n",
      " [-0.83763662 -0.01109839 -0.76122725 ... -0.36620801  1.47764884\n",
      "  -0.19670091]\n",
      " [-0.40239394 -0.52011536 -0.76122725 ... -0.36620801 -0.67675078\n",
      "  -0.19670091]\n",
      " ...\n",
      " [-0.59583513 -0.40558608  1.31366815 ...  2.73068849 -0.67675078\n",
      "  -0.19670091]\n",
      " [-0.54747484 -0.76289444 -0.76122725 ... -0.36620801 -0.67675078\n",
      "  -0.19670091]\n",
      " [ 0.6615326  -0.9103863  -0.76122725 ... -0.36620801 -0.67675078\n",
      "  -0.19670091]]\n"
     ]
    }
   ],
   "source": [
    "#viewing training set\n",
    "print(X_train)"
   ]
  },
  {
   "cell_type": "code",
   "execution_count": 17,
   "metadata": {},
   "outputs": [
    {
     "data": {
      "text/plain": [
       "KNeighborsClassifier(algorithm='auto', leaf_size=30, metric='minkowski',\n",
       "                     metric_params=None, n_jobs=None, n_neighbors=5, p=2,\n",
       "                     weights='uniform')"
      ]
     },
     "execution_count": 17,
     "metadata": {},
     "output_type": "execute_result"
    }
   ],
   "source": [
    "#creating classifier object\n",
    "classifier = neighbors.KNeighborsClassifier()\n",
    "classifier.fit(X_train, Y_train)"
   ]
  },
  {
   "cell_type": "code",
   "execution_count": 18,
   "metadata": {},
   "outputs": [],
   "source": [
    "#creating predictions for X \n",
    "y_pred = classifier.predict(X_test)"
   ]
  },
  {
   "cell_type": "code",
   "execution_count": 19,
   "metadata": {},
   "outputs": [
    {
     "name": "stdout",
     "output_type": "stream",
     "text": [
      "['High' 'Medium' 'Medium' ... 'Medium' 'High' 'Medium']\n"
     ]
    }
   ],
   "source": [
    "#viewing predictions\n",
    "print(y_pred)"
   ]
  },
  {
   "cell_type": "code",
   "execution_count": 20,
   "metadata": {},
   "outputs": [
    {
     "data": {
      "text/plain": [
       "0.3290537029583485"
      ]
     },
     "execution_count": 20,
     "metadata": {},
     "output_type": "execute_result"
    }
   ],
   "source": [
    "#getting precision score \n",
    "precision_score(y_pred, Y_test, average = 'macro')"
   ]
  },
  {
   "cell_type": "code",
   "execution_count": 21,
   "metadata": {
    "scrolled": true
   },
   "outputs": [
    {
     "name": "stdout",
     "output_type": "stream",
     "text": [
      "1204    Medium\n",
      "793        Low\n",
      "4967      High\n",
      "7572    Medium\n",
      "9048       Low\n",
      "         ...  \n",
      "3932      High\n",
      "2943    Medium\n",
      "9050      High\n",
      "4146      High\n",
      "980        Low\n",
      "Name: Complication_risk, Length: 2000, dtype: object\n"
     ]
    }
   ],
   "source": [
    "print(Y_test)"
   ]
  },
  {
   "cell_type": "code",
   "execution_count": 22,
   "metadata": {},
   "outputs": [],
   "source": [
    "#creating confusion matrix\n",
    "cm = confusion_matrix(Y_test, y_pred, labels = ['High',\n",
    "'Low', 'Medium'])\n",
    "                                           "
   ]
  },
  {
   "cell_type": "code",
   "execution_count": 23,
   "metadata": {},
   "outputs": [],
   "source": [
    "#viewing false positive and negative counts\n",
    "TN = cm[0][0]\n",
    "FN = cm[1][0]\n",
    "TP = cm[1][1]\n",
    "FP = cm[0][1]"
   ]
  },
  {
   "cell_type": "code",
   "execution_count": 24,
   "metadata": {},
   "outputs": [
    {
     "name": "stdout",
     "output_type": "stream",
     "text": [
      "297 190 54 112\n"
     ]
    }
   ],
   "source": [
    "print(TN, FN, TP, FP)"
   ]
  },
  {
   "cell_type": "code",
   "execution_count": 25,
   "metadata": {},
   "outputs": [],
   "source": [
    "#creating program to calculate area under the curve \n",
    "def multiclass_roc_auc_score(Y_test, y_pred, average=\"macro\"):\n",
    "    lb = preprocessing.LabelBinarizer()\n",
    "    lb.fit(Y_test)\n",
    "    Y_test = lb.transform(Y_test)\n",
    "    y_pred = lb.transform(y_pred)\n",
    "    return roc_auc_score(Y_test, y_pred)"
   ]
  },
  {
   "cell_type": "code",
   "execution_count": 26,
   "metadata": {},
   "outputs": [
    {
     "data": {
      "text/plain": [
       "0.49788968265592315"
      ]
     },
     "execution_count": 26,
     "metadata": {},
     "output_type": "execute_result"
    }
   ],
   "source": [
    "#getting area under the curve \n",
    "multiclass_roc_auc_score(Y_test, y_pred)"
   ]
  }
 ],
 "metadata": {
  "kernelspec": {
   "display_name": "Python 3",
   "language": "python",
   "name": "python3"
  },
  "language_info": {
   "codemirror_mode": {
    "name": "ipython",
    "version": 3
   },
   "file_extension": ".py",
   "mimetype": "text/x-python",
   "name": "python",
   "nbconvert_exporter": "python",
   "pygments_lexer": "ipython3",
   "version": "3.7.4"
  }
 },
 "nbformat": 4,
 "nbformat_minor": 2
}
